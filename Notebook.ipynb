{
 "cells": [
  {
   "cell_type": "markdown",
   "id": "7f2c971d",
   "metadata": {},
   "source": [
    "# Lets Start the assignment with importing Pandas."
   ]
  },
  {
   "cell_type": "code",
   "execution_count": 3,
   "id": "b966990b",
   "metadata": {},
   "outputs": [],
   "source": [
    "import pandas as pd"
   ]
  },
  {
   "cell_type": "markdown",
   "id": "a888c4ab",
   "metadata": {},
   "source": [
    "# First of all we will read and take the ones without prices."
   ]
  },
  {
   "cell_type": "code",
   "execution_count": 5,
   "id": "728f4ca4",
   "metadata": {},
   "outputs": [],
   "source": [
    "df= pd.read_csv(r\"E:\\BEZEN\\2022_02_08-02_30_31_AM.csv\")"
   ]
  },
  {
   "cell_type": "code",
   "execution_count": 11,
   "id": "6ee5b0db",
   "metadata": {},
   "outputs": [],
   "source": [
    "dfwop= df[df['price_string'].isna()]"
   ]
  },
  {
   "cell_type": "code",
   "execution_count": 12,
   "id": "4a06ac7e",
   "metadata": {
    "scrolled": true
   },
   "outputs": [
    {
     "data": {
      "text/html": [
       "<div>\n",
       "<style scoped>\n",
       "    .dataframe tbody tr th:only-of-type {\n",
       "        vertical-align: middle;\n",
       "    }\n",
       "\n",
       "    .dataframe tbody tr th {\n",
       "        vertical-align: top;\n",
       "    }\n",
       "\n",
       "    .dataframe thead th {\n",
       "        text-align: right;\n",
       "    }\n",
       "</style>\n",
       "<table border=\"1\" class=\"dataframe\">\n",
       "  <thead>\n",
       "    <tr style=\"text-align: right;\">\n",
       "      <th></th>\n",
       "      <th>uuid</th>\n",
       "      <th>price_string</th>\n",
       "      <th>price_string_unf</th>\n",
       "      <th>product_type</th>\n",
       "      <th>level_1</th>\n",
       "      <th>category</th>\n",
       "    </tr>\n",
       "  </thead>\n",
       "  <tbody>\n",
       "    <tr>\n",
       "      <th>0</th>\n",
       "      <td>638744a4-b0ae-4166-8cb6-5c063c862036</td>\n",
       "      <td>NaN</td>\n",
       "      <td>NaN</td>\n",
       "      <td>TGFwdG9wIENvdmVycy9CYWdz</td>\n",
       "      <td>TGFwdG9wIENhc2U</td>\n",
       "      <td>RWxlY3Ryb25pY3M</td>\n",
       "    </tr>\n",
       "    <tr>\n",
       "      <th>1</th>\n",
       "      <td>ab313969-02cc-48b2-9daf-0054efb70b92</td>\n",
       "      <td>NaN</td>\n",
       "      <td>NaN</td>\n",
       "      <td>QmFraW5nIEN1cHMgYW5kIE1hdHM</td>\n",
       "      <td>QmFraW5nIE1hdHMgLyBCYWtpbmcgZGlzaA</td>\n",
       "      <td>a2l0Y2hpbmcgYW5kIGRpbmluZw</td>\n",
       "    </tr>\n",
       "    <tr>\n",
       "      <th>5</th>\n",
       "      <td>389d9f75-cc3f-4bd2-94f7-93e381a3bed5</td>\n",
       "      <td>NaN</td>\n",
       "      <td>NaN</td>\n",
       "      <td>TmF0dXJhbCBTd2VldGVuZXJzLyBTdWdhcg</td>\n",
       "      <td>TW9uayBGcnVpdA</td>\n",
       "      <td>Z3JvY2VyaWVz</td>\n",
       "    </tr>\n",
       "    <tr>\n",
       "      <th>13</th>\n",
       "      <td>1f2766ec-0a27-43f8-b28b-77a44492ead1</td>\n",
       "      <td>NaN</td>\n",
       "      <td>NaN</td>\n",
       "      <td>U2NydWJzIGFuZCBjbGVhbmluZyBjbG90aHM</td>\n",
       "      <td>U2NydWJz</td>\n",
       "      <td>SG91c2Vob2xkIGFuZCBDbGVhbmluZw</td>\n",
       "    </tr>\n",
       "    <tr>\n",
       "      <th>16</th>\n",
       "      <td>7bad39f5-74b9-4611-afb9-46fb135190cd</td>\n",
       "      <td>NaN</td>\n",
       "      <td>NaN</td>\n",
       "      <td>UGx1cyBzaXplIHdlYXIgZHJlc3M</td>\n",
       "      <td>RHJlc3M</td>\n",
       "      <td>Q2xvdGhpbmcgYW5kIEFjY2Vzc29yaWVz</td>\n",
       "    </tr>\n",
       "    <tr>\n",
       "      <th>...</th>\n",
       "      <td>...</td>\n",
       "      <td>...</td>\n",
       "      <td>...</td>\n",
       "      <td>...</td>\n",
       "      <td>...</td>\n",
       "      <td>...</td>\n",
       "    </tr>\n",
       "    <tr>\n",
       "      <th>13729992</th>\n",
       "      <td>8d763911-79b7-402d-8964-6bfe89692c66</td>\n",
       "      <td>NaN</td>\n",
       "      <td>NaN</td>\n",
       "      <td>TWVucyB3b3Jrd2Vhci8gb2ZmaWNlIHdlYXI</td>\n",
       "      <td>U2hpcnRz</td>\n",
       "      <td>Q2xvdGhpbmcgYW5kIEFjY2Vzc29yaWVz</td>\n",
       "    </tr>\n",
       "    <tr>\n",
       "      <th>13729993</th>\n",
       "      <td>2dc182aa-d591-49e4-85d1-5c4a60a09664</td>\n",
       "      <td>NaN</td>\n",
       "      <td>NaN</td>\n",
       "      <td>U3BpY2Vz</td>\n",
       "      <td>UGVwcGVy</td>\n",
       "      <td>Z3JvY2VyaWVz</td>\n",
       "    </tr>\n",
       "    <tr>\n",
       "      <th>13729995</th>\n",
       "      <td>2a13338e-9268-4f7b-9e7c-b8c41c72971b</td>\n",
       "      <td>NaN</td>\n",
       "      <td>NaN</td>\n",
       "      <td>RHJlc3Nlcw</td>\n",
       "      <td>TWF4aSBkcmVzcw</td>\n",
       "      <td>Q2xvdGhpbmcgYW5kIEFjY2Vzc29yaWVz</td>\n",
       "    </tr>\n",
       "    <tr>\n",
       "      <th>13729997</th>\n",
       "      <td>679f073a-862a-4e43-b5ce-41e45afd3bfa</td>\n",
       "      <td>NaN</td>\n",
       "      <td>NaN</td>\n",
       "      <td>UGV0IEZvb2Q</td>\n",
       "      <td>RHJ5IERvZyBGb29k</td>\n",
       "      <td>cGV0IHN1cHBsaWVz</td>\n",
       "    </tr>\n",
       "    <tr>\n",
       "      <th>13729998</th>\n",
       "      <td>25677eee-c26b-4abf-bd10-ca77a800ba26</td>\n",
       "      <td>NaN</td>\n",
       "      <td>NaN</td>\n",
       "      <td>U2F1Y2U</td>\n",
       "      <td>QkJRIFNhdWNl</td>\n",
       "      <td>Z3JvY2VyaWVz</td>\n",
       "    </tr>\n",
       "  </tbody>\n",
       "</table>\n",
       "<p>8220000 rows × 6 columns</p>\n",
       "</div>"
      ],
      "text/plain": [
       "                                          uuid price_string price_string_unf  \\\n",
       "0         638744a4-b0ae-4166-8cb6-5c063c862036          NaN              NaN   \n",
       "1         ab313969-02cc-48b2-9daf-0054efb70b92          NaN              NaN   \n",
       "5         389d9f75-cc3f-4bd2-94f7-93e381a3bed5          NaN              NaN   \n",
       "13        1f2766ec-0a27-43f8-b28b-77a44492ead1          NaN              NaN   \n",
       "16        7bad39f5-74b9-4611-afb9-46fb135190cd          NaN              NaN   \n",
       "...                                        ...          ...              ...   \n",
       "13729992  8d763911-79b7-402d-8964-6bfe89692c66          NaN              NaN   \n",
       "13729993  2dc182aa-d591-49e4-85d1-5c4a60a09664          NaN              NaN   \n",
       "13729995  2a13338e-9268-4f7b-9e7c-b8c41c72971b          NaN              NaN   \n",
       "13729997  679f073a-862a-4e43-b5ce-41e45afd3bfa          NaN              NaN   \n",
       "13729998  25677eee-c26b-4abf-bd10-ca77a800ba26          NaN              NaN   \n",
       "\n",
       "                                 product_type  \\\n",
       "0                    TGFwdG9wIENvdmVycy9CYWdz   \n",
       "1                 QmFraW5nIEN1cHMgYW5kIE1hdHM   \n",
       "5          TmF0dXJhbCBTd2VldGVuZXJzLyBTdWdhcg   \n",
       "13        U2NydWJzIGFuZCBjbGVhbmluZyBjbG90aHM   \n",
       "16                UGx1cyBzaXplIHdlYXIgZHJlc3M   \n",
       "...                                       ...   \n",
       "13729992  TWVucyB3b3Jrd2Vhci8gb2ZmaWNlIHdlYXI   \n",
       "13729993                             U3BpY2Vz   \n",
       "13729995                           RHJlc3Nlcw   \n",
       "13729997                          UGV0IEZvb2Q   \n",
       "13729998                              U2F1Y2U   \n",
       "\n",
       "                                     level_1                          category  \n",
       "0                            TGFwdG9wIENhc2U                   RWxlY3Ryb25pY3M  \n",
       "1         QmFraW5nIE1hdHMgLyBCYWtpbmcgZGlzaA        a2l0Y2hpbmcgYW5kIGRpbmluZw  \n",
       "5                             TW9uayBGcnVpdA                      Z3JvY2VyaWVz  \n",
       "13                                  U2NydWJz    SG91c2Vob2xkIGFuZCBDbGVhbmluZw  \n",
       "16                                   RHJlc3M  Q2xvdGhpbmcgYW5kIEFjY2Vzc29yaWVz  \n",
       "...                                      ...                               ...  \n",
       "13729992                            U2hpcnRz  Q2xvdGhpbmcgYW5kIEFjY2Vzc29yaWVz  \n",
       "13729993                            UGVwcGVy                      Z3JvY2VyaWVz  \n",
       "13729995                      TWF4aSBkcmVzcw  Q2xvdGhpbmcgYW5kIEFjY2Vzc29yaWVz  \n",
       "13729997                    RHJ5IERvZyBGb29k                  cGV0IHN1cHBsaWVz  \n",
       "13729998                        QkJRIFNhdWNl                      Z3JvY2VyaWVz  \n",
       "\n",
       "[8220000 rows x 6 columns]"
      ]
     },
     "execution_count": 12,
     "metadata": {},
     "output_type": "execute_result"
    }
   ],
   "source": [
    "dfwop"
   ]
  },
  {
   "cell_type": "code",
   "execution_count": 14,
   "id": "5371622a",
   "metadata": {},
   "outputs": [
    {
     "data": {
      "text/html": [
       "<div>\n",
       "<style scoped>\n",
       "    .dataframe tbody tr th:only-of-type {\n",
       "        vertical-align: middle;\n",
       "    }\n",
       "\n",
       "    .dataframe tbody tr th {\n",
       "        vertical-align: top;\n",
       "    }\n",
       "\n",
       "    .dataframe thead th {\n",
       "        text-align: right;\n",
       "    }\n",
       "</style>\n",
       "<table border=\"1\" class=\"dataframe\">\n",
       "  <thead>\n",
       "    <tr style=\"text-align: right;\">\n",
       "      <th></th>\n",
       "      <th>uuid</th>\n",
       "      <th>price_string</th>\n",
       "      <th>price_string_unf</th>\n",
       "      <th>product_type</th>\n",
       "      <th>level_1</th>\n",
       "      <th>category</th>\n",
       "    </tr>\n",
       "  </thead>\n",
       "  <tbody>\n",
       "    <tr>\n",
       "      <th>count</th>\n",
       "      <td>8220000</td>\n",
       "      <td>0</td>\n",
       "      <td>70000</td>\n",
       "      <td>8210000</td>\n",
       "      <td>8180000</td>\n",
       "      <td>8210000</td>\n",
       "    </tr>\n",
       "    <tr>\n",
       "      <th>unique</th>\n",
       "      <td>822</td>\n",
       "      <td>0</td>\n",
       "      <td>7</td>\n",
       "      <td>278</td>\n",
       "      <td>476</td>\n",
       "      <td>13</td>\n",
       "    </tr>\n",
       "    <tr>\n",
       "      <th>top</th>\n",
       "      <td>638744a4-b0ae-4166-8cb6-5c063c862036</td>\n",
       "      <td>NaN</td>\n",
       "      <td>Current price: \\n$359.00</td>\n",
       "      <td>V29tZW5zIHN3aW13ZWFy</td>\n",
       "      <td>Rm9ybWFsIFN1aXRz</td>\n",
       "      <td>Q2xvdGhpbmcgYW5kIEFjY2Vzc29yaWVz</td>\n",
       "    </tr>\n",
       "    <tr>\n",
       "      <th>freq</th>\n",
       "      <td>10000</td>\n",
       "      <td>NaN</td>\n",
       "      <td>10000</td>\n",
       "      <td>140000</td>\n",
       "      <td>60000</td>\n",
       "      <td>2050000</td>\n",
       "    </tr>\n",
       "  </tbody>\n",
       "</table>\n",
       "</div>"
      ],
      "text/plain": [
       "                                        uuid price_string  \\\n",
       "count                                8220000            0   \n",
       "unique                                   822            0   \n",
       "top     638744a4-b0ae-4166-8cb6-5c063c862036          NaN   \n",
       "freq                                   10000          NaN   \n",
       "\n",
       "                price_string_unf          product_type           level_1  \\\n",
       "count                      70000               8210000           8180000   \n",
       "unique                         7                   278               476   \n",
       "top     Current price: \\n$359.00  V29tZW5zIHN3aW13ZWFy  Rm9ybWFsIFN1aXRz   \n",
       "freq                       10000                140000             60000   \n",
       "\n",
       "                                category  \n",
       "count                            8210000  \n",
       "unique                                13  \n",
       "top     Q2xvdGhpbmcgYW5kIEFjY2Vzc29yaWVz  \n",
       "freq                             2050000  "
      ]
     },
     "execution_count": 14,
     "metadata": {},
     "output_type": "execute_result"
    }
   ],
   "source": [
    "dfwop.describe()"
   ]
  },
  {
   "cell_type": "markdown",
   "id": "92d57e5b",
   "metadata": {},
   "source": [
    "# The unique UUIDs are 822 without prices, so the products should be 822.\n",
    "\n",
    "## Lets move ahead for counting individual values."
   ]
  },
  {
   "cell_type": "code",
   "execution_count": 21,
   "id": "605a9464",
   "metadata": {},
   "outputs": [],
   "source": [
    "uniqueprodlist=dfwop[\"product_type\"].dropna().unique() #Taking unique list of names for product type."
   ]
  },
  {
   "cell_type": "code",
   "execution_count": 22,
   "id": "3b4b2d9f",
   "metadata": {},
   "outputs": [
    {
     "data": {
      "text/plain": [
       "278"
      ]
     },
     "execution_count": 22,
     "metadata": {},
     "output_type": "execute_result"
    }
   ],
   "source": [
    "len(uniqueprodlist)#number of product-type"
   ]
  },
  {
   "cell_type": "code",
   "execution_count": 38,
   "id": "6310bde1",
   "metadata": {},
   "outputs": [],
   "source": [
    "def countvalue(dataf,li):    #A function that counts and converts to the dictionary.\n",
    "    nandic=dict()\n",
    "    for i in li:\n",
    "        nandic[i]=dataf.value_counts()[i]\n",
    "    return nandic"
   ]
  },
  {
   "cell_type": "code",
   "execution_count": 26,
   "id": "59c4bfc3",
   "metadata": {},
   "outputs": [],
   "source": [
    "nanproddic=countvalue(dfwop[\"product_type\"],uniqueprodlist) #Counting using the function."
   ]
  },
  {
   "cell_type": "code",
   "execution_count": 27,
   "id": "1248e4f4",
   "metadata": {},
   "outputs": [
    {
     "data": {
      "text/plain": [
       "278"
      ]
     },
     "execution_count": 27,
     "metadata": {},
     "output_type": "execute_result"
    }
   ],
   "source": [
    "len(nanproddic)"
   ]
  },
  {
   "cell_type": "code",
   "execution_count": 28,
   "id": "047bc2c9",
   "metadata": {},
   "outputs": [],
   "source": [
    "dfnanprod = pd.DataFrame(list(nanproddic.items()), columns = ['Product','Count']) #converting to dataframe."
   ]
  },
  {
   "cell_type": "code",
   "execution_count": 30,
   "id": "dcde28c9",
   "metadata": {
    "scrolled": true
   },
   "outputs": [],
   "source": [
    "dfnanprod.to_excel(r\"E:\\BEZEN\\Producttypewithoutprices.xlsx\") #saving as a excel file."
   ]
  },
  {
   "cell_type": "markdown",
   "id": "52fb9786",
   "metadata": {},
   "source": [
    "## Lets repeat this two more time for no prices."
   ]
  },
  {
   "cell_type": "code",
   "execution_count": 49,
   "id": "f0c1ba92",
   "metadata": {},
   "outputs": [],
   "source": [
    "uniquecatlist=dfwop[\"category\"].dropna().unique()\n",
    "nancatdic=countvalue(dfwop[\"category\"],uniquecatlist)\n",
    "dfnancat = pd.DataFrame(list(nancatdic.items()), columns = ['category','Count'])"
   ]
  },
  {
   "cell_type": "code",
   "execution_count": 50,
   "id": "654c99c7",
   "metadata": {},
   "outputs": [],
   "source": [
    "dfnancat.to_excel(r\"E:\\BEZEN\\categorywithoutprices.xlsx\")"
   ]
  },
  {
   "cell_type": "code",
   "execution_count": 51,
   "id": "95c62ada",
   "metadata": {},
   "outputs": [],
   "source": [
    "uniquecatlist=dfwop[\"level_1\"].dropna().unique()\n",
    "nancatdic=countvalue(dfwop[\"level_1\"],uniquecatlist)\n",
    "dfnancat = pd.DataFrame(list(nancatdic.items()), columns = ['level_1','Count'])\n",
    "dfnancat.to_excel(r\"E:\\BEZEN\\level_1withoutprices.xlsx\")"
   ]
  },
  {
   "cell_type": "markdown",
   "id": "d2b9f968",
   "metadata": {},
   "source": [
    "# Now lets take up the products with prices."
   ]
  },
  {
   "cell_type": "code",
   "execution_count": 95,
   "id": "d2960d93",
   "metadata": {},
   "outputs": [],
   "source": [
    "dfwp= df.dropna(subset=['price_string'])"
   ]
  },
  {
   "cell_type": "code",
   "execution_count": 96,
   "id": "aea3e65e",
   "metadata": {},
   "outputs": [
    {
     "data": {
      "text/plain": [
       "5510000"
      ]
     },
     "execution_count": 96,
     "metadata": {},
     "output_type": "execute_result"
    }
   ],
   "source": [
    "len(dfwp)"
   ]
  },
  {
   "cell_type": "markdown",
   "id": "9fdd1acc",
   "metadata": {},
   "source": [
    "# Lets do the same in one go."
   ]
  },
  {
   "cell_type": "code",
   "execution_count": 98,
   "id": "c3ef94fe",
   "metadata": {},
   "outputs": [],
   "source": [
    "for i in [\"category\",\"level_1\",\"product_type\"]:\n",
    "    uniquecatlist=dfwp[i].dropna().unique()\n",
    "    nancatdic=countvalue(dfwp[i],uniquecatlist)\n",
    "    dfnancat = pd.DataFrame(list(nancatdic.items()), columns = [i,'Count'])\n",
    "    dfnancat.to_excel(r\"E:\\BEZEN\\{}withprices.xlsx\".format(i))"
   ]
  },
  {
   "cell_type": "markdown",
   "id": "ec5f527e",
   "metadata": {},
   "source": [
    "# Checking for the dollar char ."
   ]
  },
  {
   "cell_type": "code",
   "execution_count": 108,
   "id": "605986c6",
   "metadata": {},
   "outputs": [],
   "source": [
    "dfwp=dfwp[dfwp[\"price_string\"].str.contains(\"$\")]"
   ]
  },
  {
   "cell_type": "code",
   "execution_count": 109,
   "id": "99040577",
   "metadata": {},
   "outputs": [
    {
     "data": {
      "text/plain": [
       "5510000"
      ]
     },
     "execution_count": 109,
     "metadata": {},
     "output_type": "execute_result"
    }
   ],
   "source": [
    "len(dfwp) #Equal to the privious one so all the prices have dollar sign."
   ]
  },
  {
   "cell_type": "code",
   "execution_count": 62,
   "id": "f600b162",
   "metadata": {},
   "outputs": [
    {
     "data": {
      "text/plain": [
       "2            $19.95\n",
       "3            $92.00\n",
       "4             11.50\n",
       "6            $24.99\n",
       "7           $148.00\n",
       "             ...   \n",
       "13729987     $32.99\n",
       "13729989     $34.00\n",
       "13729994     $86.00\n",
       "13729996     $69.99\n",
       "13729999     $55.00\n",
       "Name: price_string, Length: 5510000, dtype: object"
      ]
     },
     "execution_count": 62,
     "metadata": {},
     "output_type": "execute_result"
    }
   ],
   "source": [
    "dfwp[\"price_string\"] "
   ]
  },
  {
   "cell_type": "markdown",
   "id": "83269857",
   "metadata": {},
   "source": [
    "## Converting float values from prices."
   ]
  },
  {
   "cell_type": "code",
   "execution_count": 110,
   "id": "524104ae",
   "metadata": {},
   "outputs": [],
   "source": [
    "dfwp[\"Price Value\"] = df[\"price_string\"].astype('str').str.extract(\"([-+]?\\d*\\.\\d+|\\d+)\").astype(float)"
   ]
  },
  {
   "cell_type": "code",
   "execution_count": 111,
   "id": "941f7b76",
   "metadata": {},
   "outputs": [],
   "source": [
    "dfwp[\"Currency\"]=\"$\""
   ]
  },
  {
   "cell_type": "markdown",
   "id": "16019b76",
   "metadata": {},
   "source": [
    "# Required Values of prices and currency are:"
   ]
  },
  {
   "cell_type": "code",
   "execution_count": 69,
   "id": "b86b1f55",
   "metadata": {},
   "outputs": [
    {
     "data": {
      "text/html": [
       "<div>\n",
       "<style scoped>\n",
       "    .dataframe tbody tr th:only-of-type {\n",
       "        vertical-align: middle;\n",
       "    }\n",
       "\n",
       "    .dataframe tbody tr th {\n",
       "        vertical-align: top;\n",
       "    }\n",
       "\n",
       "    .dataframe thead th {\n",
       "        text-align: right;\n",
       "    }\n",
       "</style>\n",
       "<table border=\"1\" class=\"dataframe\">\n",
       "  <thead>\n",
       "    <tr style=\"text-align: right;\">\n",
       "      <th></th>\n",
       "      <th>uuid</th>\n",
       "      <th>price_string</th>\n",
       "      <th>price_string_unf</th>\n",
       "      <th>product_type</th>\n",
       "      <th>level_1</th>\n",
       "      <th>category</th>\n",
       "      <th>Price Value</th>\n",
       "      <th>Currency</th>\n",
       "    </tr>\n",
       "  </thead>\n",
       "  <tbody>\n",
       "    <tr>\n",
       "      <th>2</th>\n",
       "      <td>acbd66ff-79f8-467a-91f9-108a45af5626</td>\n",
       "      <td>$19.95</td>\n",
       "      <td>NaN</td>\n",
       "      <td>R3VtbWllcyB2aXRhbWlucyBhbmQgbWluZXJhbHMgZm9yIG...</td>\n",
       "      <td>SW1tdW5pdHkgZ3VtbWllcw</td>\n",
       "      <td>SGVhbHRo</td>\n",
       "      <td>19.95</td>\n",
       "      <td>$</td>\n",
       "    </tr>\n",
       "    <tr>\n",
       "      <th>3</th>\n",
       "      <td>963915d6-b2e3-4098-b242-9410593cf205</td>\n",
       "      <td>$92.00</td>\n",
       "      <td>NaN</td>\n",
       "      <td>U2VydW1z</td>\n",
       "      <td>RmFjZSBTZXJ1bQ</td>\n",
       "      <td>YmVhdXR5IGFuZCBwZXJzb25hbCBjYXJl</td>\n",
       "      <td>92.00</td>\n",
       "      <td>$</td>\n",
       "    </tr>\n",
       "    <tr>\n",
       "      <th>4</th>\n",
       "      <td>b5b68f3c-b1e0-40e5-8ee5-e2f7236c1daf</td>\n",
       "      <td>11.50</td>\n",
       "      <td>NaN</td>\n",
       "      <td>RWF0aW5nIFV0ZW5zaWxzL0N1dGxlcnk</td>\n",
       "      <td>Q2hvcHN0aWNrcw</td>\n",
       "      <td>a2l0Y2hpbmcgYW5kIGRpbmluZw</td>\n",
       "      <td>11.50</td>\n",
       "      <td>$</td>\n",
       "    </tr>\n",
       "    <tr>\n",
       "      <th>6</th>\n",
       "      <td>9599f1a9-d406-43eb-89f5-9b1c0af1ac9a</td>\n",
       "      <td>$24.99</td>\n",
       "      <td>NaN</td>\n",
       "      <td>TW9wcyBhbmQgYnJvb21z</td>\n",
       "      <td>TW9w</td>\n",
       "      <td>SG91c2Vob2xkIGFuZCBDbGVhbmluZw</td>\n",
       "      <td>24.99</td>\n",
       "      <td>$</td>\n",
       "    </tr>\n",
       "    <tr>\n",
       "      <th>7</th>\n",
       "      <td>35799087-f6f4-4ca2-abfe-cbb5c27d2f1a</td>\n",
       "      <td>$148.00</td>\n",
       "      <td>NaN</td>\n",
       "      <td>V29tZW5zIFBhbnRz</td>\n",
       "      <td>V29tZW5zIFJlZ3VsYXIvQ2FzdWFsIFBhbnRz</td>\n",
       "      <td>Q2xvdGhpbmcgYW5kIEFjY2Vzc29yaWVz</td>\n",
       "      <td>148.00</td>\n",
       "      <td>$</td>\n",
       "    </tr>\n",
       "    <tr>\n",
       "      <th>...</th>\n",
       "      <td>...</td>\n",
       "      <td>...</td>\n",
       "      <td>...</td>\n",
       "      <td>...</td>\n",
       "      <td>...</td>\n",
       "      <td>...</td>\n",
       "      <td>...</td>\n",
       "      <td>...</td>\n",
       "    </tr>\n",
       "    <tr>\n",
       "      <th>13729987</th>\n",
       "      <td>e12c3fe8-2987-4e95-93b2-14e173d8028a</td>\n",
       "      <td>$32.99</td>\n",
       "      <td>NaN</td>\n",
       "      <td>UGxhbnQgYmFzZWQgUHJvdGVpbiBTdXBwbGVtZW50cw</td>\n",
       "      <td>UGxhbnQgYmFzZWQgUHJvdGVpbiBTdXBwbGVtZW50cw</td>\n",
       "      <td>SGVhbHRo</td>\n",
       "      <td>32.99</td>\n",
       "      <td>$</td>\n",
       "    </tr>\n",
       "    <tr>\n",
       "      <th>13729989</th>\n",
       "      <td>544416c3-4845-4427-b27b-d3ca9beca970</td>\n",
       "      <td>$34.00</td>\n",
       "      <td>NaN</td>\n",
       "      <td>U3Vuc2NyZWVu</td>\n",
       "      <td>VmVnYW4gU3Vuc2NyZWVu</td>\n",
       "      <td>YmVhdXR5IGFuZCBwZXJzb25hbCBjYXJl</td>\n",
       "      <td>34.00</td>\n",
       "      <td>$</td>\n",
       "    </tr>\n",
       "    <tr>\n",
       "      <th>13729994</th>\n",
       "      <td>f0ec31d4-3283-4931-af8b-6fb9fdb8b1aa</td>\n",
       "      <td>$86.00</td>\n",
       "      <td>NaN</td>\n",
       "      <td>RmFjaWFsIENsZWFuc2Vycw</td>\n",
       "      <td>TWlsayBDbGVhbnNlcg</td>\n",
       "      <td>YmVhdXR5IGFuZCBwZXJzb25hbCBjYXJl</td>\n",
       "      <td>86.00</td>\n",
       "      <td>$</td>\n",
       "    </tr>\n",
       "    <tr>\n",
       "      <th>13729996</th>\n",
       "      <td>fcaedae7-dc20-4da1-b4ae-77368c973088</td>\n",
       "      <td>$69.99</td>\n",
       "      <td>NaN</td>\n",
       "      <td>Um9vbSBkZWNvcg</td>\n",
       "      <td>UGxhbnRlcnMvVmFzZXM</td>\n",
       "      <td>SG91c2Vob2xkIGFuZCBDbGVhbmluZw</td>\n",
       "      <td>69.99</td>\n",
       "      <td>$</td>\n",
       "    </tr>\n",
       "    <tr>\n",
       "      <th>13729999</th>\n",
       "      <td>0f4550de-1f33-48b5-a5ef-fc5e39df208e</td>\n",
       "      <td>$55.00</td>\n",
       "      <td>NaN</td>\n",
       "      <td>TG9hZmVycy8gT3hmb3Jkcw</td>\n",
       "      <td>d29tZW5zIE94Zm9yZHMgYW5kIExvYWZlcnM</td>\n",
       "      <td>Q2xvdGhpbmcgYW5kIEFjY2Vzc29yaWVz</td>\n",
       "      <td>55.00</td>\n",
       "      <td>$</td>\n",
       "    </tr>\n",
       "  </tbody>\n",
       "</table>\n",
       "<p>5510000 rows × 8 columns</p>\n",
       "</div>"
      ],
      "text/plain": [
       "                                          uuid price_string price_string_unf  \\\n",
       "2         acbd66ff-79f8-467a-91f9-108a45af5626       $19.95              NaN   \n",
       "3         963915d6-b2e3-4098-b242-9410593cf205       $92.00              NaN   \n",
       "4         b5b68f3c-b1e0-40e5-8ee5-e2f7236c1daf        11.50              NaN   \n",
       "6         9599f1a9-d406-43eb-89f5-9b1c0af1ac9a       $24.99              NaN   \n",
       "7         35799087-f6f4-4ca2-abfe-cbb5c27d2f1a      $148.00              NaN   \n",
       "...                                        ...          ...              ...   \n",
       "13729987  e12c3fe8-2987-4e95-93b2-14e173d8028a       $32.99              NaN   \n",
       "13729989  544416c3-4845-4427-b27b-d3ca9beca970       $34.00              NaN   \n",
       "13729994  f0ec31d4-3283-4931-af8b-6fb9fdb8b1aa       $86.00              NaN   \n",
       "13729996  fcaedae7-dc20-4da1-b4ae-77368c973088       $69.99              NaN   \n",
       "13729999  0f4550de-1f33-48b5-a5ef-fc5e39df208e       $55.00              NaN   \n",
       "\n",
       "                                               product_type  \\\n",
       "2         R3VtbWllcyB2aXRhbWlucyBhbmQgbWluZXJhbHMgZm9yIG...   \n",
       "3                                                  U2VydW1z   \n",
       "4                           RWF0aW5nIFV0ZW5zaWxzL0N1dGxlcnk   \n",
       "6                                      TW9wcyBhbmQgYnJvb21z   \n",
       "7                                          V29tZW5zIFBhbnRz   \n",
       "...                                                     ...   \n",
       "13729987         UGxhbnQgYmFzZWQgUHJvdGVpbiBTdXBwbGVtZW50cw   \n",
       "13729989                                       U3Vuc2NyZWVu   \n",
       "13729994                             RmFjaWFsIENsZWFuc2Vycw   \n",
       "13729996                                     Um9vbSBkZWNvcg   \n",
       "13729999                             TG9hZmVycy8gT3hmb3Jkcw   \n",
       "\n",
       "                                             level_1  \\\n",
       "2                             SW1tdW5pdHkgZ3VtbWllcw   \n",
       "3                                     RmFjZSBTZXJ1bQ   \n",
       "4                                     Q2hvcHN0aWNrcw   \n",
       "6                                               TW9w   \n",
       "7               V29tZW5zIFJlZ3VsYXIvQ2FzdWFsIFBhbnRz   \n",
       "...                                              ...   \n",
       "13729987  UGxhbnQgYmFzZWQgUHJvdGVpbiBTdXBwbGVtZW50cw   \n",
       "13729989                        VmVnYW4gU3Vuc2NyZWVu   \n",
       "13729994                          TWlsayBDbGVhbnNlcg   \n",
       "13729996                         UGxhbnRlcnMvVmFzZXM   \n",
       "13729999         d29tZW5zIE94Zm9yZHMgYW5kIExvYWZlcnM   \n",
       "\n",
       "                                  category  Price Value Currency  \n",
       "2                                 SGVhbHRo        19.95        $  \n",
       "3         YmVhdXR5IGFuZCBwZXJzb25hbCBjYXJl        92.00        $  \n",
       "4               a2l0Y2hpbmcgYW5kIGRpbmluZw        11.50        $  \n",
       "6           SG91c2Vob2xkIGFuZCBDbGVhbmluZw        24.99        $  \n",
       "7         Q2xvdGhpbmcgYW5kIEFjY2Vzc29yaWVz       148.00        $  \n",
       "...                                    ...          ...      ...  \n",
       "13729987                          SGVhbHRo        32.99        $  \n",
       "13729989  YmVhdXR5IGFuZCBwZXJzb25hbCBjYXJl        34.00        $  \n",
       "13729994  YmVhdXR5IGFuZCBwZXJzb25hbCBjYXJl        86.00        $  \n",
       "13729996    SG91c2Vob2xkIGFuZCBDbGVhbmluZw        69.99        $  \n",
       "13729999  Q2xvdGhpbmcgYW5kIEFjY2Vzc29yaWVz        55.00        $  \n",
       "\n",
       "[5510000 rows x 8 columns]"
      ]
     },
     "execution_count": 69,
     "metadata": {},
     "output_type": "execute_result"
    }
   ],
   "source": [
    "dfwp"
   ]
  },
  {
   "cell_type": "code",
   "execution_count": 74,
   "id": "70aad334",
   "metadata": {},
   "outputs": [],
   "source": [
    "dfwp.to_csv(r\"E:\\BEZEN\\seperatepricesandcurrency.csv\")"
   ]
  },
  {
   "cell_type": "markdown",
   "id": "9a93df6c",
   "metadata": {},
   "source": [
    "# Lets move on to the average prices of categories."
   ]
  },
  {
   "cell_type": "code",
   "execution_count": 112,
   "id": "787a875a",
   "metadata": {},
   "outputs": [],
   "source": [
    "dfwp=dfwp[[\"category\",\"Price Value\"]] #taking just the required columns."
   ]
  },
  {
   "cell_type": "code",
   "execution_count": 81,
   "id": "19787d94",
   "metadata": {},
   "outputs": [],
   "source": [
    "uniquecatlist=dfwp[\"category\"].dropna().unique() #again making unique list of categories with prices."
   ]
  },
  {
   "cell_type": "code",
   "execution_count": 84,
   "id": "66974c4c",
   "metadata": {},
   "outputs": [
    {
     "data": {
      "text/plain": [
       "array(['SGVhbHRo', 'YmVhdXR5IGFuZCBwZXJzb25hbCBjYXJl',\n",
       "       'a2l0Y2hpbmcgYW5kIGRpbmluZw', 'SG91c2Vob2xkIGFuZCBDbGVhbmluZw',\n",
       "       'Q2xvdGhpbmcgYW5kIEFjY2Vzc29yaWVz', 'VG95cyBhbmQgR2FtZXM',\n",
       "       'QXJ0IHN1cHBsaWVz', 'Z3JvY2VyaWVz',\n",
       "       'VG9vbHMgYW5kIGhvbWUgaW1wcm92ZW1lbnQ', 'b2ZmaWNlIHByb2R1Y3Rz',\n",
       "       'QmFieWNhcmU', 'cGV0IHN1cHBsaWVz', 'RWxlY3Ryb25pY3M'], dtype=object)"
      ]
     },
     "execution_count": 84,
     "metadata": {},
     "output_type": "execute_result"
    }
   ],
   "source": [
    "uniquecatlist #enlisting them"
   ]
  },
  {
   "cell_type": "code",
   "execution_count": 89,
   "id": "d177aa46",
   "metadata": {},
   "outputs": [],
   "source": [
    "avg=dfwp.groupby(\"category\")[\"Price Value\"].mean() #to calculate mean of groups\n",
    "catdic=dict()\n",
    "for i in uniquecatlist:\n",
    "    catdic[i]=avg.loc[i]"
   ]
  },
  {
   "cell_type": "code",
   "execution_count": 91,
   "id": "df669803",
   "metadata": {},
   "outputs": [],
   "source": [
    "dfavgcat=pd.DataFrame(list(catdic.items()), columns = ['Category','Avg-Price']) #making df."
   ]
  },
  {
   "cell_type": "code",
   "execution_count": 92,
   "id": "ce618002",
   "metadata": {},
   "outputs": [],
   "source": [
    "dfavgcat[\"Currency\"]=\"$\""
   ]
  },
  {
   "cell_type": "markdown",
   "id": "f2e4bbd9",
   "metadata": {},
   "source": [
    "# Required categories and respective average prices."
   ]
  },
  {
   "cell_type": "code",
   "execution_count": 93,
   "id": "d022119c",
   "metadata": {},
   "outputs": [
    {
     "data": {
      "text/html": [
       "<div>\n",
       "<style scoped>\n",
       "    .dataframe tbody tr th:only-of-type {\n",
       "        vertical-align: middle;\n",
       "    }\n",
       "\n",
       "    .dataframe tbody tr th {\n",
       "        vertical-align: top;\n",
       "    }\n",
       "\n",
       "    .dataframe thead th {\n",
       "        text-align: right;\n",
       "    }\n",
       "</style>\n",
       "<table border=\"1\" class=\"dataframe\">\n",
       "  <thead>\n",
       "    <tr style=\"text-align: right;\">\n",
       "      <th></th>\n",
       "      <th>Category</th>\n",
       "      <th>Avg-Price</th>\n",
       "      <th>Currency</th>\n",
       "    </tr>\n",
       "  </thead>\n",
       "  <tbody>\n",
       "    <tr>\n",
       "      <th>0</th>\n",
       "      <td>SGVhbHRo</td>\n",
       "      <td>32.557586</td>\n",
       "      <td>$</td>\n",
       "    </tr>\n",
       "    <tr>\n",
       "      <th>1</th>\n",
       "      <td>YmVhdXR5IGFuZCBwZXJzb25hbCBjYXJl</td>\n",
       "      <td>34.745067</td>\n",
       "      <td>$</td>\n",
       "    </tr>\n",
       "    <tr>\n",
       "      <th>2</th>\n",
       "      <td>a2l0Y2hpbmcgYW5kIGRpbmluZw</td>\n",
       "      <td>16.703235</td>\n",
       "      <td>$</td>\n",
       "    </tr>\n",
       "    <tr>\n",
       "      <th>3</th>\n",
       "      <td>SG91c2Vob2xkIGFuZCBDbGVhbmluZw</td>\n",
       "      <td>76.199000</td>\n",
       "      <td>$</td>\n",
       "    </tr>\n",
       "    <tr>\n",
       "      <th>4</th>\n",
       "      <td>Q2xvdGhpbmcgYW5kIEFjY2Vzc29yaWVz</td>\n",
       "      <td>125.413871</td>\n",
       "      <td>$</td>\n",
       "    </tr>\n",
       "    <tr>\n",
       "      <th>5</th>\n",
       "      <td>VG95cyBhbmQgR2FtZXM</td>\n",
       "      <td>32.448947</td>\n",
       "      <td>$</td>\n",
       "    </tr>\n",
       "    <tr>\n",
       "      <th>6</th>\n",
       "      <td>QXJ0IHN1cHBsaWVz</td>\n",
       "      <td>19.471053</td>\n",
       "      <td>$</td>\n",
       "    </tr>\n",
       "    <tr>\n",
       "      <th>7</th>\n",
       "      <td>Z3JvY2VyaWVz</td>\n",
       "      <td>10.541667</td>\n",
       "      <td>$</td>\n",
       "    </tr>\n",
       "    <tr>\n",
       "      <th>8</th>\n",
       "      <td>VG9vbHMgYW5kIGhvbWUgaW1wcm92ZW1lbnQ</td>\n",
       "      <td>82.223500</td>\n",
       "      <td>$</td>\n",
       "    </tr>\n",
       "    <tr>\n",
       "      <th>9</th>\n",
       "      <td>b2ZmaWNlIHByb2R1Y3Rz</td>\n",
       "      <td>20.480000</td>\n",
       "      <td>$</td>\n",
       "    </tr>\n",
       "    <tr>\n",
       "      <th>10</th>\n",
       "      <td>QmFieWNhcmU</td>\n",
       "      <td>163.688889</td>\n",
       "      <td>$</td>\n",
       "    </tr>\n",
       "    <tr>\n",
       "      <th>11</th>\n",
       "      <td>cGV0IHN1cHBsaWVz</td>\n",
       "      <td>14.181875</td>\n",
       "      <td>$</td>\n",
       "    </tr>\n",
       "    <tr>\n",
       "      <th>12</th>\n",
       "      <td>RWxlY3Ryb25pY3M</td>\n",
       "      <td>60.258182</td>\n",
       "      <td>$</td>\n",
       "    </tr>\n",
       "  </tbody>\n",
       "</table>\n",
       "</div>"
      ],
      "text/plain": [
       "                               Category   Avg-Price Currency\n",
       "0                              SGVhbHRo   32.557586        $\n",
       "1      YmVhdXR5IGFuZCBwZXJzb25hbCBjYXJl   34.745067        $\n",
       "2            a2l0Y2hpbmcgYW5kIGRpbmluZw   16.703235        $\n",
       "3        SG91c2Vob2xkIGFuZCBDbGVhbmluZw   76.199000        $\n",
       "4      Q2xvdGhpbmcgYW5kIEFjY2Vzc29yaWVz  125.413871        $\n",
       "5                   VG95cyBhbmQgR2FtZXM   32.448947        $\n",
       "6                      QXJ0IHN1cHBsaWVz   19.471053        $\n",
       "7                          Z3JvY2VyaWVz   10.541667        $\n",
       "8   VG9vbHMgYW5kIGhvbWUgaW1wcm92ZW1lbnQ   82.223500        $\n",
       "9                  b2ZmaWNlIHByb2R1Y3Rz   20.480000        $\n",
       "10                          QmFieWNhcmU  163.688889        $\n",
       "11                     cGV0IHN1cHBsaWVz   14.181875        $\n",
       "12                      RWxlY3Ryb25pY3M   60.258182        $"
      ]
     },
     "execution_count": 93,
     "metadata": {},
     "output_type": "execute_result"
    }
   ],
   "source": [
    "dfavgcat"
   ]
  },
  {
   "cell_type": "code",
   "execution_count": 94,
   "id": "d17d8738",
   "metadata": {},
   "outputs": [],
   "source": [
    "dfavgcat.to_excel(r\"E:\\BEZEN\\categorywithavgprice.xlsx\")"
   ]
  },
  {
   "cell_type": "markdown",
   "id": "6b9d54f9",
   "metadata": {},
   "source": [
    "# Something for getting the brownies ......"
   ]
  },
  {
   "cell_type": "code",
   "execution_count": 99,
   "id": "c6cc434d",
   "metadata": {},
   "outputs": [],
   "source": [
    "#importing the modules for plotting.\n",
    "import seaborn as sns\n",
    "import matplotlib.pyplot as plt"
   ]
  },
  {
   "cell_type": "code",
   "execution_count": 100,
   "id": "97ea17c3",
   "metadata": {},
   "outputs": [
    {
     "data": {
      "text/html": [
       "<div>\n",
       "<style scoped>\n",
       "    .dataframe tbody tr th:only-of-type {\n",
       "        vertical-align: middle;\n",
       "    }\n",
       "\n",
       "    .dataframe tbody tr th {\n",
       "        vertical-align: top;\n",
       "    }\n",
       "\n",
       "    .dataframe thead th {\n",
       "        text-align: right;\n",
       "    }\n",
       "</style>\n",
       "<table border=\"1\" class=\"dataframe\">\n",
       "  <thead>\n",
       "    <tr style=\"text-align: right;\">\n",
       "      <th></th>\n",
       "      <th>Category</th>\n",
       "      <th>Avg-Price</th>\n",
       "      <th>Currency</th>\n",
       "    </tr>\n",
       "  </thead>\n",
       "  <tbody>\n",
       "    <tr>\n",
       "      <th>0</th>\n",
       "      <td>SGVhbHRo</td>\n",
       "      <td>32.557586</td>\n",
       "      <td>$</td>\n",
       "    </tr>\n",
       "    <tr>\n",
       "      <th>1</th>\n",
       "      <td>YmVhdXR5IGFuZCBwZXJzb25hbCBjYXJl</td>\n",
       "      <td>34.745067</td>\n",
       "      <td>$</td>\n",
       "    </tr>\n",
       "    <tr>\n",
       "      <th>2</th>\n",
       "      <td>a2l0Y2hpbmcgYW5kIGRpbmluZw</td>\n",
       "      <td>16.703235</td>\n",
       "      <td>$</td>\n",
       "    </tr>\n",
       "    <tr>\n",
       "      <th>3</th>\n",
       "      <td>SG91c2Vob2xkIGFuZCBDbGVhbmluZw</td>\n",
       "      <td>76.199000</td>\n",
       "      <td>$</td>\n",
       "    </tr>\n",
       "    <tr>\n",
       "      <th>4</th>\n",
       "      <td>Q2xvdGhpbmcgYW5kIEFjY2Vzc29yaWVz</td>\n",
       "      <td>125.413871</td>\n",
       "      <td>$</td>\n",
       "    </tr>\n",
       "    <tr>\n",
       "      <th>5</th>\n",
       "      <td>VG95cyBhbmQgR2FtZXM</td>\n",
       "      <td>32.448947</td>\n",
       "      <td>$</td>\n",
       "    </tr>\n",
       "    <tr>\n",
       "      <th>6</th>\n",
       "      <td>QXJ0IHN1cHBsaWVz</td>\n",
       "      <td>19.471053</td>\n",
       "      <td>$</td>\n",
       "    </tr>\n",
       "    <tr>\n",
       "      <th>7</th>\n",
       "      <td>Z3JvY2VyaWVz</td>\n",
       "      <td>10.541667</td>\n",
       "      <td>$</td>\n",
       "    </tr>\n",
       "    <tr>\n",
       "      <th>8</th>\n",
       "      <td>VG9vbHMgYW5kIGhvbWUgaW1wcm92ZW1lbnQ</td>\n",
       "      <td>82.223500</td>\n",
       "      <td>$</td>\n",
       "    </tr>\n",
       "    <tr>\n",
       "      <th>9</th>\n",
       "      <td>b2ZmaWNlIHByb2R1Y3Rz</td>\n",
       "      <td>20.480000</td>\n",
       "      <td>$</td>\n",
       "    </tr>\n",
       "    <tr>\n",
       "      <th>10</th>\n",
       "      <td>QmFieWNhcmU</td>\n",
       "      <td>163.688889</td>\n",
       "      <td>$</td>\n",
       "    </tr>\n",
       "    <tr>\n",
       "      <th>11</th>\n",
       "      <td>cGV0IHN1cHBsaWVz</td>\n",
       "      <td>14.181875</td>\n",
       "      <td>$</td>\n",
       "    </tr>\n",
       "    <tr>\n",
       "      <th>12</th>\n",
       "      <td>RWxlY3Ryb25pY3M</td>\n",
       "      <td>60.258182</td>\n",
       "      <td>$</td>\n",
       "    </tr>\n",
       "  </tbody>\n",
       "</table>\n",
       "</div>"
      ],
      "text/plain": [
       "                               Category   Avg-Price Currency\n",
       "0                              SGVhbHRo   32.557586        $\n",
       "1      YmVhdXR5IGFuZCBwZXJzb25hbCBjYXJl   34.745067        $\n",
       "2            a2l0Y2hpbmcgYW5kIGRpbmluZw   16.703235        $\n",
       "3        SG91c2Vob2xkIGFuZCBDbGVhbmluZw   76.199000        $\n",
       "4      Q2xvdGhpbmcgYW5kIEFjY2Vzc29yaWVz  125.413871        $\n",
       "5                   VG95cyBhbmQgR2FtZXM   32.448947        $\n",
       "6                      QXJ0IHN1cHBsaWVz   19.471053        $\n",
       "7                          Z3JvY2VyaWVz   10.541667        $\n",
       "8   VG9vbHMgYW5kIGhvbWUgaW1wcm92ZW1lbnQ   82.223500        $\n",
       "9                  b2ZmaWNlIHByb2R1Y3Rz   20.480000        $\n",
       "10                          QmFieWNhcmU  163.688889        $\n",
       "11                     cGV0IHN1cHBsaWVz   14.181875        $\n",
       "12                      RWxlY3Ryb25pY3M   60.258182        $"
      ]
     },
     "execution_count": 100,
     "metadata": {},
     "output_type": "execute_result"
    }
   ],
   "source": [
    "dfavgcat #first take the categories and average prices."
   ]
  },
  {
   "cell_type": "code",
   "execution_count": 119,
   "id": "e9c1baac",
   "metadata": {},
   "outputs": [
    {
     "data": {
      "image/png": "[encoded data removed]",
      "text/plain": [
       "<Figure size 1152x576 with 1 Axes>"
      ]
     },
     "metadata": {},
     "output_type": "display_data"
    }
   ],
   "source": [
    "sns.set(rc={\"figure.figsize\":(16, 8)}) #setting size of the plot.\n",
    "plot1=sns.barplot(y = dfavgcat[\"Category\"], x = dfavgcat[\"Avg-Price\"])"
   ]
  },
  {
   "cell_type": "code",
   "execution_count": 121,
   "id": "9088d3cb",
   "metadata": {},
   "outputs": [],
   "source": [
    "plot1.figure.savefig(r\"E:\\BEZEN\\output1.png\") #saving the graph as output."
   ]
  },
  {
   "cell_type": "code",
   "execution_count": 122,
   "id": "f0c0d754",
   "metadata": {},
   "outputs": [
    {
     "data": {
      "image/png": "[encoded data removed]",
      "text/plain": [
       "<Figure size 1152x576 with 1 Axes>"
      ]
     },
     "metadata": {},
     "output_type": "display_data"
    }
   ],
   "source": [
    "dfbar=dfnancat.sort_values(by=['Count']).tail(10)\n",
    "plot2=sns.barplot(y = dfbar[\"product_type\"], x = dfbar[\"Count\"])"
   ]
  },
  {
   "cell_type": "code",
   "execution_count": 123,
   "id": "8be9a52a",
   "metadata": {},
   "outputs": [],
   "source": [
    "plot2.figure.savefig(r\"E:\\BEZEN\\output2.png\")"
   ]
  },
  {
   "cell_type": "code",
   "execution_count": 124,
   "id": "81e81652",
   "metadata": {},
   "outputs": [
    {
     "data": {
      "image/png": "[encoded data removed]",
      "text/plain": [
       "<Figure size 1152x576 with 1 Axes>"
      ]
     },
     "metadata": {},
     "output_type": "display_data"
    }
   ],
   "source": [
    "plot3=sns.boxplot(x = dfwp[\"Price Value\"], y = dfwp[\"category\"]) #plotting the categories with prices."
   ]
  },
  {
   "cell_type": "code",
   "execution_count": 125,
   "id": "fd973512",
   "metadata": {},
   "outputs": [],
   "source": [
    "plot3.figure.savefig(r\"E:\\BEZEN\\output3.png\")"
   ]
  },
  {
   "cell_type": "code",
   "execution_count": null,
   "id": "b0bfbe72",
   "metadata": {},
   "outputs": [],
   "source": []
  }
 ],
 "metadata": {
  "kernelspec": {
   "display_name": "Python 3 (ipykernel)",
   "language": "python",
   "name": "python3"
  },
  "language_info": {
   "codemirror_mode": {
    "name": "ipython",
    "version": 3
   },
   "file_extension": ".py",
   "mimetype": "text/x-python",
   "name": "python",
   "nbconvert_exporter": "python",
   "pygments_lexer": "ipython3",
   "version": "3.9.7"
  }
 },
 "nbformat": 4,
 "nbformat_minor": 5
}
